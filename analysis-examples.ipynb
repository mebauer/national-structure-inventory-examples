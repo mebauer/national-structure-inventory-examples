{
 "cells": [
  {
   "cell_type": "markdown",
   "id": "d41dc4c2",
   "metadata": {},
   "source": [
    "# Analysis Examples\n",
    "## A Guide to the National Structure Inventory (NSI) API in Python\n",
    "Author: Mark Bauer"
   ]
  },
  {
   "cell_type": "markdown",
   "id": "6a1ea295",
   "metadata": {},
   "source": [
    "This notebook is intended to demonstrate how to use the National Structure Inventory (NSI) API in Python. To learn more about the NSI API, please visit the [API Reference Guide](https://www.hec.usace.army.mil/confluence/nsi/technicalreferences/latest/api-reference-guide) and the [NSI Documentation](https://www.hec.usace.army.mil/confluence/nsi).\n",
    "\n",
    "Additionally, please familiarize yourself with the [data dictionary](https://www.hec.usace.army.mil/confluence/nsi/technicalreferences/latest/technical-documentation)."
   ]
  },
  {
   "cell_type": "code",
   "execution_count": 1,
   "id": "64328343",
   "metadata": {},
   "outputs": [],
   "source": [
    "# import libraries\n",
    "import pandas as pd\n",
    "import geopandas as gpd\n",
    "import seaborn as sns"
   ]
  },
  {
   "cell_type": "markdown",
   "id": "a893a410",
   "metadata": {},
   "source": [
    "For the FIPS code argument, we will use Manhattan borough - **36061**."
   ]
  },
  {
   "cell_type": "markdown",
   "id": "620dc0da",
   "metadata": {},
   "source": [
    "# National Structure Inventory (NSI) API"
   ]
  },
  {
   "cell_type": "markdown",
   "id": "8739018f",
   "metadata": {},
   "source": [
    "# Structures Endpoint\n",
    "> The structures endpoint provides structure data to the user as a geojson feature collection (fc) or a feature stream (fs), the default is feature collection. The structure of a feature returned by the API can be seen in this geojson feature block. The type of return can be declared by the fmt directive (e.g. &fmt=fc)\n",
    "\n",
    "Source: https://www.hec.usace.army.mil/confluence/nsi/technicalreferences/latest/api-reference-guide#id-.APIReferenceGuidev2022-Structures"
   ]
  },
  {
   "cell_type": "markdown",
   "id": "547859cf",
   "metadata": {},
   "source": [
    "## Structures By FIPS\n",
    "FIPS codes: https://transition.fcc.gov/oet/info/maps/census/fips/fips.txt\n",
    "\n",
    "We will use Manhattan's FIPS code: 36063."
   ]
  },
  {
   "cell_type": "code",
   "execution_count": 2,
   "id": "20d4389c",
   "metadata": {},
   "outputs": [
    {
     "name": "stdout",
     "output_type": "stream",
     "text": [
      "(163033, 2)\n"
     ]
    },
    {
     "data": {
      "text/html": [
       "<div>\n",
       "<style scoped>\n",
       "    .dataframe tbody tr th:only-of-type {\n",
       "        vertical-align: middle;\n",
       "    }\n",
       "\n",
       "    .dataframe tbody tr th {\n",
       "        vertical-align: top;\n",
       "    }\n",
       "\n",
       "    .dataframe thead th {\n",
       "        text-align: right;\n",
       "    }\n",
       "</style>\n",
       "<table border=\"1\" class=\"dataframe\">\n",
       "  <thead>\n",
       "    <tr style=\"text-align: right;\">\n",
       "      <th></th>\n",
       "      <th>type</th>\n",
       "      <th>features</th>\n",
       "    </tr>\n",
       "  </thead>\n",
       "  <tbody>\n",
       "    <tr>\n",
       "      <th>0</th>\n",
       "      <td>FeatureCollection</td>\n",
       "      <td>{'type': 'Feature', 'geometry': {'type': 'Poin...</td>\n",
       "    </tr>\n",
       "    <tr>\n",
       "      <th>1</th>\n",
       "      <td>FeatureCollection</td>\n",
       "      <td>{'type': 'Feature', 'geometry': {'type': 'Poin...</td>\n",
       "    </tr>\n",
       "    <tr>\n",
       "      <th>2</th>\n",
       "      <td>FeatureCollection</td>\n",
       "      <td>{'type': 'Feature', 'geometry': {'type': 'Poin...</td>\n",
       "    </tr>\n",
       "    <tr>\n",
       "      <th>3</th>\n",
       "      <td>FeatureCollection</td>\n",
       "      <td>{'type': 'Feature', 'geometry': {'type': 'Poin...</td>\n",
       "    </tr>\n",
       "    <tr>\n",
       "      <th>4</th>\n",
       "      <td>FeatureCollection</td>\n",
       "      <td>{'type': 'Feature', 'geometry': {'type': 'Poin...</td>\n",
       "    </tr>\n",
       "  </tbody>\n",
       "</table>\n",
       "</div>"
      ],
      "text/plain": [
       "                type                                           features\n",
       "0  FeatureCollection  {'type': 'Feature', 'geometry': {'type': 'Poin...\n",
       "1  FeatureCollection  {'type': 'Feature', 'geometry': {'type': 'Poin...\n",
       "2  FeatureCollection  {'type': 'Feature', 'geometry': {'type': 'Poin...\n",
       "3  FeatureCollection  {'type': 'Feature', 'geometry': {'type': 'Poin...\n",
       "4  FeatureCollection  {'type': 'Feature', 'geometry': {'type': 'Poin..."
      ]
     },
     "execution_count": 2,
     "metadata": {},
     "output_type": "execute_result"
    }
   ],
   "source": [
    "# set variables\n",
    "root_url = \"https://nsi.sec.usace.army.mil/nsiapi/\"\n",
    "structures = \"structures?fips=\"\n",
    "fips = \"36061\"\n",
    "\n",
    "# read url into a pandas DataFrame\n",
    "url = f\"{root_url}{structures}{fips}\"\n",
    "df = pd.read_json(url)\n",
    "\n",
    "# sanity check\n",
    "print(df.shape)\n",
    "df.head()"
   ]
  },
  {
   "cell_type": "code",
   "execution_count": 3,
   "id": "cb21a837",
   "metadata": {},
   "outputs": [
    {
     "name": "stdout",
     "output_type": "stream",
     "text": [
      "(163033, 32)\n"
     ]
    },
    {
     "data": {
      "text/html": [
       "<div>\n",
       "<style scoped>\n",
       "    .dataframe tbody tr th:only-of-type {\n",
       "        vertical-align: middle;\n",
       "    }\n",
       "\n",
       "    .dataframe tbody tr th {\n",
       "        vertical-align: top;\n",
       "    }\n",
       "\n",
       "    .dataframe thead th {\n",
       "        text-align: right;\n",
       "    }\n",
       "</style>\n",
       "<table border=\"1\" class=\"dataframe\">\n",
       "  <thead>\n",
       "    <tr style=\"text-align: right;\">\n",
       "      <th></th>\n",
       "      <th>type</th>\n",
       "      <th>geometry.type</th>\n",
       "      <th>geometry.coordinates</th>\n",
       "      <th>properties.fd_id</th>\n",
       "      <th>properties.bid</th>\n",
       "      <th>properties.occtype</th>\n",
       "      <th>properties.st_damcat</th>\n",
       "      <th>properties.bldgtype</th>\n",
       "      <th>properties.found_type</th>\n",
       "      <th>properties.cbfips</th>\n",
       "      <th>...</th>\n",
       "      <th>properties.val_vehic</th>\n",
       "      <th>properties.source</th>\n",
       "      <th>properties.med_yr_blt</th>\n",
       "      <th>properties.firmzone</th>\n",
       "      <th>properties.o65disable</th>\n",
       "      <th>properties.u65disable</th>\n",
       "      <th>properties.x</th>\n",
       "      <th>properties.y</th>\n",
       "      <th>properties.ground_elv</th>\n",
       "      <th>properties.ground_elv_m</th>\n",
       "    </tr>\n",
       "  </thead>\n",
       "  <tbody>\n",
       "    <tr>\n",
       "      <th>0</th>\n",
       "      <td>Feature</td>\n",
       "      <td>Point</td>\n",
       "      <td>[-73.99841, 40.714656]</td>\n",
       "      <td>554079197</td>\n",
       "      <td>87G8P272+VJ8-1-1-2-1</td>\n",
       "      <td>RES3C</td>\n",
       "      <td>RES</td>\n",
       "      <td>W</td>\n",
       "      <td>B</td>\n",
       "      <td>360610029003003</td>\n",
       "      <td>...</td>\n",
       "      <td>135000</td>\n",
       "      <td>X</td>\n",
       "      <td>1939</td>\n",
       "      <td>None</td>\n",
       "      <td>0.25</td>\n",
       "      <td>0.03</td>\n",
       "      <td>-73.998410</td>\n",
       "      <td>40.714656</td>\n",
       "      <td>30.833406</td>\n",
       "      <td>9.398022</td>\n",
       "    </tr>\n",
       "    <tr>\n",
       "      <th>1</th>\n",
       "      <td>Feature</td>\n",
       "      <td>Point</td>\n",
       "      <td>[-73.997441, 40.714627]</td>\n",
       "      <td>554079269</td>\n",
       "      <td>87G8P273+V23-2-5-3-4</td>\n",
       "      <td>RES3A</td>\n",
       "      <td>RES</td>\n",
       "      <td>M</td>\n",
       "      <td>S</td>\n",
       "      <td>360610029003004</td>\n",
       "      <td>...</td>\n",
       "      <td>27000</td>\n",
       "      <td>X</td>\n",
       "      <td>1939</td>\n",
       "      <td>None</td>\n",
       "      <td>0.25</td>\n",
       "      <td>0.03</td>\n",
       "      <td>-73.997441</td>\n",
       "      <td>40.714627</td>\n",
       "      <td>36.259209</td>\n",
       "      <td>11.051806</td>\n",
       "    </tr>\n",
       "    <tr>\n",
       "      <th>2</th>\n",
       "      <td>Feature</td>\n",
       "      <td>Point</td>\n",
       "      <td>[-74.01107, 40.719515]</td>\n",
       "      <td>554096858</td>\n",
       "      <td>87G7PX9Q+RH3-1-1-1-1</td>\n",
       "      <td>IND6</td>\n",
       "      <td>IND</td>\n",
       "      <td>S</td>\n",
       "      <td>S</td>\n",
       "      <td>360610039002001</td>\n",
       "      <td>...</td>\n",
       "      <td>36000</td>\n",
       "      <td>X</td>\n",
       "      <td>1975</td>\n",
       "      <td>None</td>\n",
       "      <td>0.25</td>\n",
       "      <td>0.03</td>\n",
       "      <td>-74.011070</td>\n",
       "      <td>40.719515</td>\n",
       "      <td>9.820276</td>\n",
       "      <td>2.993220</td>\n",
       "    </tr>\n",
       "    <tr>\n",
       "      <th>3</th>\n",
       "      <td>Feature</td>\n",
       "      <td>Point</td>\n",
       "      <td>[-73.997247, 40.721022]</td>\n",
       "      <td>554126006</td>\n",
       "      <td>87G8P2C3+C42-8-6-8-7</td>\n",
       "      <td>RES3A</td>\n",
       "      <td>RES</td>\n",
       "      <td>W</td>\n",
       "      <td>S</td>\n",
       "      <td>360610041006002</td>\n",
       "      <td>...</td>\n",
       "      <td>54000</td>\n",
       "      <td>X</td>\n",
       "      <td>1939</td>\n",
       "      <td>None</td>\n",
       "      <td>0.25</td>\n",
       "      <td>0.03</td>\n",
       "      <td>-73.997247</td>\n",
       "      <td>40.721022</td>\n",
       "      <td>32.165671</td>\n",
       "      <td>9.804096</td>\n",
       "    </tr>\n",
       "    <tr>\n",
       "      <th>4</th>\n",
       "      <td>Feature</td>\n",
       "      <td>Point</td>\n",
       "      <td>[-73.984015, 40.718307]</td>\n",
       "      <td>554175328</td>\n",
       "      <td>87G8P298+89H-10-11-11-11</td>\n",
       "      <td>EDU1</td>\n",
       "      <td>PUB</td>\n",
       "      <td>S</td>\n",
       "      <td>S</td>\n",
       "      <td>360610014022000</td>\n",
       "      <td>...</td>\n",
       "      <td>234000</td>\n",
       "      <td>X</td>\n",
       "      <td>1959</td>\n",
       "      <td>None</td>\n",
       "      <td>0.25</td>\n",
       "      <td>0.03</td>\n",
       "      <td>-73.984015</td>\n",
       "      <td>40.718307</td>\n",
       "      <td>23.983126</td>\n",
       "      <td>7.310057</td>\n",
       "    </tr>\n",
       "  </tbody>\n",
       "</table>\n",
       "<p>5 rows × 32 columns</p>\n",
       "</div>"
      ],
      "text/plain": [
       "      type geometry.type     geometry.coordinates  properties.fd_id  \\\n",
       "0  Feature         Point   [-73.99841, 40.714656]         554079197   \n",
       "1  Feature         Point  [-73.997441, 40.714627]         554079269   \n",
       "2  Feature         Point   [-74.01107, 40.719515]         554096858   \n",
       "3  Feature         Point  [-73.997247, 40.721022]         554126006   \n",
       "4  Feature         Point  [-73.984015, 40.718307]         554175328   \n",
       "\n",
       "             properties.bid properties.occtype properties.st_damcat  \\\n",
       "0      87G8P272+VJ8-1-1-2-1              RES3C                  RES   \n",
       "1      87G8P273+V23-2-5-3-4              RES3A                  RES   \n",
       "2      87G7PX9Q+RH3-1-1-1-1               IND6                  IND   \n",
       "3      87G8P2C3+C42-8-6-8-7              RES3A                  RES   \n",
       "4  87G8P298+89H-10-11-11-11               EDU1                  PUB   \n",
       "\n",
       "  properties.bldgtype properties.found_type properties.cbfips  ...  \\\n",
       "0                   W                     B   360610029003003  ...   \n",
       "1                   M                     S   360610029003004  ...   \n",
       "2                   S                     S   360610039002001  ...   \n",
       "3                   W                     S   360610041006002  ...   \n",
       "4                   S                     S   360610014022000  ...   \n",
       "\n",
       "   properties.val_vehic  properties.source  properties.med_yr_blt  \\\n",
       "0                135000                  X                   1939   \n",
       "1                 27000                  X                   1939   \n",
       "2                 36000                  X                   1975   \n",
       "3                 54000                  X                   1939   \n",
       "4                234000                  X                   1959   \n",
       "\n",
       "   properties.firmzone  properties.o65disable  properties.u65disable  \\\n",
       "0                 None                   0.25                   0.03   \n",
       "1                 None                   0.25                   0.03   \n",
       "2                 None                   0.25                   0.03   \n",
       "3                 None                   0.25                   0.03   \n",
       "4                 None                   0.25                   0.03   \n",
       "\n",
       "  properties.x properties.y  properties.ground_elv  properties.ground_elv_m  \n",
       "0   -73.998410    40.714656              30.833406                 9.398022  \n",
       "1   -73.997441    40.714627              36.259209                11.051806  \n",
       "2   -74.011070    40.719515               9.820276                 2.993220  \n",
       "3   -73.997247    40.721022              32.165671                 9.804096  \n",
       "4   -73.984015    40.718307              23.983126                 7.310057  \n",
       "\n",
       "[5 rows x 32 columns]"
      ]
     },
     "execution_count": 3,
     "metadata": {},
     "output_type": "execute_result"
    }
   ],
   "source": [
    "# convert JSON into flat table\n",
    "df = pd.json_normalize(df['features'])\n",
    "\n",
    "print(df.shape)\n",
    "df.head()"
   ]
  },
  {
   "cell_type": "code",
   "execution_count": 4,
   "id": "fb3d20ff",
   "metadata": {},
   "outputs": [
    {
     "name": "stdout",
     "output_type": "stream",
     "text": [
      "<class 'pandas.core.frame.DataFrame'>\n",
      "RangeIndex: 163033 entries, 0 to 163032\n",
      "Data columns (total 32 columns):\n",
      " #   Column                   Non-Null Count   Dtype  \n",
      "---  ------                   --------------   -----  \n",
      " 0   type                     163033 non-null  object \n",
      " 1   geometry.type            163033 non-null  object \n",
      " 2   geometry.coordinates     163033 non-null  object \n",
      " 3   properties.fd_id         163033 non-null  int64  \n",
      " 4   properties.bid           163033 non-null  object \n",
      " 5   properties.occtype       163033 non-null  object \n",
      " 6   properties.st_damcat     163033 non-null  object \n",
      " 7   properties.bldgtype      163033 non-null  object \n",
      " 8   properties.found_type    163033 non-null  object \n",
      " 9   properties.cbfips        163033 non-null  object \n",
      " 10  properties.pop2amu65     163033 non-null  int64  \n",
      " 11  properties.pop2amo65     163033 non-null  int64  \n",
      " 12  properties.pop2pmu65     163033 non-null  int64  \n",
      " 13  properties.pop2pmo65     163033 non-null  int64  \n",
      " 14  properties.sqft          163033 non-null  float64\n",
      " 15  properties.num_story     163033 non-null  int64  \n",
      " 16  properties.ftprntid      163033 non-null  object \n",
      " 17  properties.ftprntsrc     49933 non-null   object \n",
      " 18  properties.students      163033 non-null  int64  \n",
      " 19  properties.found_ht      163033 non-null  float64\n",
      " 20  properties.val_struct    163033 non-null  float64\n",
      " 21  properties.val_cont      163033 non-null  float64\n",
      " 22  properties.val_vehic     163033 non-null  int64  \n",
      " 23  properties.source        163033 non-null  object \n",
      " 24  properties.med_yr_blt    163033 non-null  int64  \n",
      " 25  properties.firmzone      0 non-null       object \n",
      " 26  properties.o65disable    163033 non-null  float64\n",
      " 27  properties.u65disable    163033 non-null  float64\n",
      " 28  properties.x             163033 non-null  float64\n",
      " 29  properties.y             163033 non-null  float64\n",
      " 30  properties.ground_elv    163033 non-null  float64\n",
      " 31  properties.ground_elv_m  163033 non-null  float64\n",
      "dtypes: float64(10), int64(9), object(13)\n",
      "memory usage: 39.8+ MB\n"
     ]
    }
   ],
   "source": [
    "# summary of df\n",
    "df.info()"
   ]
  },
  {
   "cell_type": "code",
   "execution_count": 5,
   "id": "d927ef89",
   "metadata": {},
   "outputs": [
    {
     "data": {
      "text/plain": [
       "properties.firmzone        163033\n",
       "properties.ftprntsrc       113100\n",
       "type                            0\n",
       "geometry.type                   0\n",
       "properties.ground_elv           0\n",
       "properties.y                    0\n",
       "properties.x                    0\n",
       "properties.u65disable           0\n",
       "properties.o65disable           0\n",
       "properties.med_yr_blt           0\n",
       "properties.source               0\n",
       "properties.val_vehic            0\n",
       "properties.val_cont             0\n",
       "properties.val_struct           0\n",
       "properties.found_ht             0\n",
       "properties.students             0\n",
       "properties.ftprntid             0\n",
       "properties.num_story            0\n",
       "properties.sqft                 0\n",
       "properties.pop2pmo65            0\n",
       "properties.pop2pmu65            0\n",
       "properties.pop2amo65            0\n",
       "properties.pop2amu65            0\n",
       "properties.cbfips               0\n",
       "properties.found_type           0\n",
       "properties.bldgtype             0\n",
       "properties.st_damcat            0\n",
       "properties.occtype              0\n",
       "properties.bid                  0\n",
       "properties.fd_id                0\n",
       "geometry.coordinates            0\n",
       "properties.ground_elv_m         0\n",
       "dtype: int64"
      ]
     },
     "execution_count": 5,
     "metadata": {},
     "output_type": "execute_result"
    }
   ],
   "source": [
    "# nulls per column\n",
    "df.isnull().sum().sort_values(ascending=False)"
   ]
  },
  {
   "cell_type": "code",
   "execution_count": 6,
   "id": "20482a70",
   "metadata": {},
   "outputs": [
    {
     "data": {
      "text/html": [
       "<div>\n",
       "<style scoped>\n",
       "    .dataframe tbody tr th:only-of-type {\n",
       "        vertical-align: middle;\n",
       "    }\n",
       "\n",
       "    .dataframe tbody tr th {\n",
       "        vertical-align: top;\n",
       "    }\n",
       "\n",
       "    .dataframe thead th {\n",
       "        text-align: right;\n",
       "    }\n",
       "</style>\n",
       "<table border=\"1\" class=\"dataframe\">\n",
       "  <thead>\n",
       "    <tr style=\"text-align: right;\">\n",
       "      <th></th>\n",
       "      <th>properties.fd_id</th>\n",
       "      <th>properties.pop2amu65</th>\n",
       "      <th>properties.pop2amo65</th>\n",
       "      <th>properties.pop2pmu65</th>\n",
       "      <th>properties.pop2pmo65</th>\n",
       "      <th>properties.sqft</th>\n",
       "      <th>properties.num_story</th>\n",
       "      <th>properties.students</th>\n",
       "      <th>properties.found_ht</th>\n",
       "      <th>properties.val_struct</th>\n",
       "      <th>properties.val_cont</th>\n",
       "      <th>properties.val_vehic</th>\n",
       "      <th>properties.med_yr_blt</th>\n",
       "      <th>properties.o65disable</th>\n",
       "      <th>properties.u65disable</th>\n",
       "      <th>properties.x</th>\n",
       "      <th>properties.y</th>\n",
       "      <th>properties.ground_elv</th>\n",
       "      <th>properties.ground_elv_m</th>\n",
       "    </tr>\n",
       "  </thead>\n",
       "  <tbody>\n",
       "    <tr>\n",
       "      <th>count</th>\n",
       "      <td>1.630330e+05</td>\n",
       "      <td>163033.000000</td>\n",
       "      <td>163033.000000</td>\n",
       "      <td>163033.000000</td>\n",
       "      <td>163033.000000</td>\n",
       "      <td>1.630330e+05</td>\n",
       "      <td>163033.000000</td>\n",
       "      <td>163033.000000</td>\n",
       "      <td>163033.000000</td>\n",
       "      <td>1.630330e+05</td>\n",
       "      <td>1.630330e+05</td>\n",
       "      <td>1.630330e+05</td>\n",
       "      <td>163033.000000</td>\n",
       "      <td>163033.00</td>\n",
       "      <td>1.630330e+05</td>\n",
       "      <td>163033.000000</td>\n",
       "      <td>163033.000000</td>\n",
       "      <td>163033.000000</td>\n",
       "      <td>163033.000000</td>\n",
       "    </tr>\n",
       "    <tr>\n",
       "      <th>mean</th>\n",
       "      <td>5.549201e+08</td>\n",
       "      <td>8.408764</td>\n",
       "      <td>1.994860</td>\n",
       "      <td>17.918102</td>\n",
       "      <td>2.616617</td>\n",
       "      <td>5.226986e+03</td>\n",
       "      <td>2.221612</td>\n",
       "      <td>1.304061</td>\n",
       "      <td>1.696101</td>\n",
       "      <td>1.127928e+06</td>\n",
       "      <td>7.618989e+05</td>\n",
       "      <td>1.272350e+05</td>\n",
       "      <td>1956.942208</td>\n",
       "      <td>0.25</td>\n",
       "      <td>3.000000e-02</td>\n",
       "      <td>-73.976480</td>\n",
       "      <td>40.762143</td>\n",
       "      <td>46.371874</td>\n",
       "      <td>14.134147</td>\n",
       "    </tr>\n",
       "    <tr>\n",
       "      <th>std</th>\n",
       "      <td>5.671348e+05</td>\n",
       "      <td>34.395594</td>\n",
       "      <td>9.684798</td>\n",
       "      <td>142.679683</td>\n",
       "      <td>12.003926</td>\n",
       "      <td>1.756495e+04</td>\n",
       "      <td>8.957499</td>\n",
       "      <td>30.752780</td>\n",
       "      <td>1.768494</td>\n",
       "      <td>3.421964e+06</td>\n",
       "      <td>2.486419e+06</td>\n",
       "      <td>6.590770e+05</td>\n",
       "      <td>20.380739</td>\n",
       "      <td>0.00</td>\n",
       "      <td>2.081675e-17</td>\n",
       "      <td>0.021487</td>\n",
       "      <td>0.033172</td>\n",
       "      <td>32.366691</td>\n",
       "      <td>9.865367</td>\n",
       "    </tr>\n",
       "    <tr>\n",
       "      <th>min</th>\n",
       "      <td>5.540769e+08</td>\n",
       "      <td>0.000000</td>\n",
       "      <td>0.000000</td>\n",
       "      <td>0.000000</td>\n",
       "      <td>0.000000</td>\n",
       "      <td>1.467808e+01</td>\n",
       "      <td>1.000000</td>\n",
       "      <td>0.000000</td>\n",
       "      <td>0.500000</td>\n",
       "      <td>0.000000e+00</td>\n",
       "      <td>0.000000e+00</td>\n",
       "      <td>0.000000e+00</td>\n",
       "      <td>1939.000000</td>\n",
       "      <td>0.25</td>\n",
       "      <td>3.000000e-02</td>\n",
       "      <td>-74.047007</td>\n",
       "      <td>40.689244</td>\n",
       "      <td>-20.319334</td>\n",
       "      <td>-6.193333</td>\n",
       "    </tr>\n",
       "    <tr>\n",
       "      <th>25%</th>\n",
       "      <td>5.543870e+08</td>\n",
       "      <td>1.000000</td>\n",
       "      <td>0.000000</td>\n",
       "      <td>1.000000</td>\n",
       "      <td>0.000000</td>\n",
       "      <td>8.000000e+02</td>\n",
       "      <td>1.000000</td>\n",
       "      <td>0.000000</td>\n",
       "      <td>0.500000</td>\n",
       "      <td>2.220645e+05</td>\n",
       "      <td>1.148178e+05</td>\n",
       "      <td>2.700000e+04</td>\n",
       "      <td>1939.000000</td>\n",
       "      <td>0.25</td>\n",
       "      <td>3.000000e-02</td>\n",
       "      <td>-73.992305</td>\n",
       "      <td>40.737986</td>\n",
       "      <td>22.905384</td>\n",
       "      <td>6.981561</td>\n",
       "    </tr>\n",
       "    <tr>\n",
       "      <th>50%</th>\n",
       "      <td>5.548442e+08</td>\n",
       "      <td>1.000000</td>\n",
       "      <td>0.000000</td>\n",
       "      <td>1.000000</td>\n",
       "      <td>0.000000</td>\n",
       "      <td>1.343000e+03</td>\n",
       "      <td>1.000000</td>\n",
       "      <td>0.000000</td>\n",
       "      <td>1.500000</td>\n",
       "      <td>3.165476e+05</td>\n",
       "      <td>1.726090e+05</td>\n",
       "      <td>2.700000e+04</td>\n",
       "      <td>1949.000000</td>\n",
       "      <td>0.25</td>\n",
       "      <td>3.000000e-02</td>\n",
       "      <td>-73.978802</td>\n",
       "      <td>40.762367</td>\n",
       "      <td>37.809274</td>\n",
       "      <td>11.524266</td>\n",
       "    </tr>\n",
       "    <tr>\n",
       "      <th>75%</th>\n",
       "      <td>5.553810e+08</td>\n",
       "      <td>2.000000</td>\n",
       "      <td>1.000000</td>\n",
       "      <td>6.000000</td>\n",
       "      <td>1.000000</td>\n",
       "      <td>3.004000e+03</td>\n",
       "      <td>2.000000</td>\n",
       "      <td>0.000000</td>\n",
       "      <td>2.000000</td>\n",
       "      <td>6.430523e+05</td>\n",
       "      <td>4.625292e+05</td>\n",
       "      <td>2.700000e+04</td>\n",
       "      <td>1972.000000</td>\n",
       "      <td>0.25</td>\n",
       "      <td>3.000000e-02</td>\n",
       "      <td>-73.959425</td>\n",
       "      <td>40.781564</td>\n",
       "      <td>66.004915</td>\n",
       "      <td>20.118298</td>\n",
       "    </tr>\n",
       "    <tr>\n",
       "      <th>max</th>\n",
       "      <td>5.561127e+08</td>\n",
       "      <td>1739.000000</td>\n",
       "      <td>688.000000</td>\n",
       "      <td>18312.000000</td>\n",
       "      <td>1096.000000</td>\n",
       "      <td>1.655955e+06</td>\n",
       "      <td>591.000000</td>\n",
       "      <td>3288.000000</td>\n",
       "      <td>8.000000</td>\n",
       "      <td>3.502432e+08</td>\n",
       "      <td>2.291838e+08</td>\n",
       "      <td>9.034200e+07</td>\n",
       "      <td>2017.000000</td>\n",
       "      <td>0.25</td>\n",
       "      <td>3.000000e-02</td>\n",
       "      <td>-73.907464</td>\n",
       "      <td>40.879013</td>\n",
       "      <td>251.719540</td>\n",
       "      <td>76.724113</td>\n",
       "    </tr>\n",
       "  </tbody>\n",
       "</table>\n",
       "</div>"
      ],
      "text/plain": [
       "       properties.fd_id  properties.pop2amu65  properties.pop2amo65  \\\n",
       "count      1.630330e+05         163033.000000         163033.000000   \n",
       "mean       5.549201e+08              8.408764              1.994860   \n",
       "std        5.671348e+05             34.395594              9.684798   \n",
       "min        5.540769e+08              0.000000              0.000000   \n",
       "25%        5.543870e+08              1.000000              0.000000   \n",
       "50%        5.548442e+08              1.000000              0.000000   \n",
       "75%        5.553810e+08              2.000000              1.000000   \n",
       "max        5.561127e+08           1739.000000            688.000000   \n",
       "\n",
       "       properties.pop2pmu65  properties.pop2pmo65  properties.sqft  \\\n",
       "count         163033.000000         163033.000000     1.630330e+05   \n",
       "mean              17.918102              2.616617     5.226986e+03   \n",
       "std              142.679683             12.003926     1.756495e+04   \n",
       "min                0.000000              0.000000     1.467808e+01   \n",
       "25%                1.000000              0.000000     8.000000e+02   \n",
       "50%                1.000000              0.000000     1.343000e+03   \n",
       "75%                6.000000              1.000000     3.004000e+03   \n",
       "max            18312.000000           1096.000000     1.655955e+06   \n",
       "\n",
       "       properties.num_story  properties.students  properties.found_ht  \\\n",
       "count         163033.000000        163033.000000        163033.000000   \n",
       "mean               2.221612             1.304061             1.696101   \n",
       "std                8.957499            30.752780             1.768494   \n",
       "min                1.000000             0.000000             0.500000   \n",
       "25%                1.000000             0.000000             0.500000   \n",
       "50%                1.000000             0.000000             1.500000   \n",
       "75%                2.000000             0.000000             2.000000   \n",
       "max              591.000000          3288.000000             8.000000   \n",
       "\n",
       "       properties.val_struct  properties.val_cont  properties.val_vehic  \\\n",
       "count           1.630330e+05         1.630330e+05          1.630330e+05   \n",
       "mean            1.127928e+06         7.618989e+05          1.272350e+05   \n",
       "std             3.421964e+06         2.486419e+06          6.590770e+05   \n",
       "min             0.000000e+00         0.000000e+00          0.000000e+00   \n",
       "25%             2.220645e+05         1.148178e+05          2.700000e+04   \n",
       "50%             3.165476e+05         1.726090e+05          2.700000e+04   \n",
       "75%             6.430523e+05         4.625292e+05          2.700000e+04   \n",
       "max             3.502432e+08         2.291838e+08          9.034200e+07   \n",
       "\n",
       "       properties.med_yr_blt  properties.o65disable  properties.u65disable  \\\n",
       "count          163033.000000              163033.00           1.630330e+05   \n",
       "mean             1956.942208                   0.25           3.000000e-02   \n",
       "std                20.380739                   0.00           2.081675e-17   \n",
       "min              1939.000000                   0.25           3.000000e-02   \n",
       "25%              1939.000000                   0.25           3.000000e-02   \n",
       "50%              1949.000000                   0.25           3.000000e-02   \n",
       "75%              1972.000000                   0.25           3.000000e-02   \n",
       "max              2017.000000                   0.25           3.000000e-02   \n",
       "\n",
       "        properties.x   properties.y  properties.ground_elv  \\\n",
       "count  163033.000000  163033.000000          163033.000000   \n",
       "mean      -73.976480      40.762143              46.371874   \n",
       "std         0.021487       0.033172              32.366691   \n",
       "min       -74.047007      40.689244             -20.319334   \n",
       "25%       -73.992305      40.737986              22.905384   \n",
       "50%       -73.978802      40.762367              37.809274   \n",
       "75%       -73.959425      40.781564              66.004915   \n",
       "max       -73.907464      40.879013             251.719540   \n",
       "\n",
       "       properties.ground_elv_m  \n",
       "count            163033.000000  \n",
       "mean                 14.134147  \n",
       "std                   9.865367  \n",
       "min                  -6.193333  \n",
       "25%                   6.981561  \n",
       "50%                  11.524266  \n",
       "75%                  20.118298  \n",
       "max                  76.724113  "
      ]
     },
     "execution_count": 6,
     "metadata": {},
     "output_type": "execute_result"
    }
   ],
   "source": [
    "# summary statistics of numeric columns\n",
    "df.describe()"
   ]
  },
  {
   "cell_type": "markdown",
   "id": "8b567a95",
   "metadata": {},
   "source": [
    "# Scan and Preview Every 10 Columns"
   ]
  },
  {
   "cell_type": "code",
   "execution_count": 7,
   "id": "acb140a6",
   "metadata": {},
   "outputs": [
    {
     "data": {
      "text/html": [
       "<div>\n",
       "<style scoped>\n",
       "    .dataframe tbody tr th:only-of-type {\n",
       "        vertical-align: middle;\n",
       "    }\n",
       "\n",
       "    .dataframe tbody tr th {\n",
       "        vertical-align: top;\n",
       "    }\n",
       "\n",
       "    .dataframe thead th {\n",
       "        text-align: right;\n",
       "    }\n",
       "</style>\n",
       "<table border=\"1\" class=\"dataframe\">\n",
       "  <thead>\n",
       "    <tr style=\"text-align: right;\">\n",
       "      <th></th>\n",
       "      <th>type</th>\n",
       "      <th>geometry.type</th>\n",
       "      <th>geometry.coordinates</th>\n",
       "      <th>properties.fd_id</th>\n",
       "      <th>properties.bid</th>\n",
       "      <th>properties.occtype</th>\n",
       "      <th>properties.st_damcat</th>\n",
       "      <th>properties.bldgtype</th>\n",
       "      <th>properties.found_type</th>\n",
       "      <th>properties.cbfips</th>\n",
       "    </tr>\n",
       "  </thead>\n",
       "  <tbody>\n",
       "    <tr>\n",
       "      <th>0</th>\n",
       "      <td>Feature</td>\n",
       "      <td>Point</td>\n",
       "      <td>[-73.99841, 40.714656]</td>\n",
       "      <td>554079197</td>\n",
       "      <td>87G8P272+VJ8-1-1-2-1</td>\n",
       "      <td>RES3C</td>\n",
       "      <td>RES</td>\n",
       "      <td>W</td>\n",
       "      <td>B</td>\n",
       "      <td>360610029003003</td>\n",
       "    </tr>\n",
       "    <tr>\n",
       "      <th>1</th>\n",
       "      <td>Feature</td>\n",
       "      <td>Point</td>\n",
       "      <td>[-73.997441, 40.714627]</td>\n",
       "      <td>554079269</td>\n",
       "      <td>87G8P273+V23-2-5-3-4</td>\n",
       "      <td>RES3A</td>\n",
       "      <td>RES</td>\n",
       "      <td>M</td>\n",
       "      <td>S</td>\n",
       "      <td>360610029003004</td>\n",
       "    </tr>\n",
       "    <tr>\n",
       "      <th>2</th>\n",
       "      <td>Feature</td>\n",
       "      <td>Point</td>\n",
       "      <td>[-74.01107, 40.719515]</td>\n",
       "      <td>554096858</td>\n",
       "      <td>87G7PX9Q+RH3-1-1-1-1</td>\n",
       "      <td>IND6</td>\n",
       "      <td>IND</td>\n",
       "      <td>S</td>\n",
       "      <td>S</td>\n",
       "      <td>360610039002001</td>\n",
       "    </tr>\n",
       "    <tr>\n",
       "      <th>3</th>\n",
       "      <td>Feature</td>\n",
       "      <td>Point</td>\n",
       "      <td>[-73.997247, 40.721022]</td>\n",
       "      <td>554126006</td>\n",
       "      <td>87G8P2C3+C42-8-6-8-7</td>\n",
       "      <td>RES3A</td>\n",
       "      <td>RES</td>\n",
       "      <td>W</td>\n",
       "      <td>S</td>\n",
       "      <td>360610041006002</td>\n",
       "    </tr>\n",
       "    <tr>\n",
       "      <th>4</th>\n",
       "      <td>Feature</td>\n",
       "      <td>Point</td>\n",
       "      <td>[-73.984015, 40.718307]</td>\n",
       "      <td>554175328</td>\n",
       "      <td>87G8P298+89H-10-11-11-11</td>\n",
       "      <td>EDU1</td>\n",
       "      <td>PUB</td>\n",
       "      <td>S</td>\n",
       "      <td>S</td>\n",
       "      <td>360610014022000</td>\n",
       "    </tr>\n",
       "  </tbody>\n",
       "</table>\n",
       "</div>"
      ],
      "text/plain": [
       "      type geometry.type     geometry.coordinates  properties.fd_id  \\\n",
       "0  Feature         Point   [-73.99841, 40.714656]         554079197   \n",
       "1  Feature         Point  [-73.997441, 40.714627]         554079269   \n",
       "2  Feature         Point   [-74.01107, 40.719515]         554096858   \n",
       "3  Feature         Point  [-73.997247, 40.721022]         554126006   \n",
       "4  Feature         Point  [-73.984015, 40.718307]         554175328   \n",
       "\n",
       "             properties.bid properties.occtype properties.st_damcat  \\\n",
       "0      87G8P272+VJ8-1-1-2-1              RES3C                  RES   \n",
       "1      87G8P273+V23-2-5-3-4              RES3A                  RES   \n",
       "2      87G7PX9Q+RH3-1-1-1-1               IND6                  IND   \n",
       "3      87G8P2C3+C42-8-6-8-7              RES3A                  RES   \n",
       "4  87G8P298+89H-10-11-11-11               EDU1                  PUB   \n",
       "\n",
       "  properties.bldgtype properties.found_type properties.cbfips  \n",
       "0                   W                     B   360610029003003  \n",
       "1                   M                     S   360610029003004  \n",
       "2                   S                     S   360610039002001  \n",
       "3                   W                     S   360610041006002  \n",
       "4                   S                     S   360610014022000  "
      ]
     },
     "execution_count": 7,
     "metadata": {},
     "output_type": "execute_result"
    }
   ],
   "source": [
    "df.iloc[:5, :10]"
   ]
  },
  {
   "cell_type": "code",
   "execution_count": 8,
   "id": "d5bbf370",
   "metadata": {},
   "outputs": [
    {
     "data": {
      "text/html": [
       "<div>\n",
       "<style scoped>\n",
       "    .dataframe tbody tr th:only-of-type {\n",
       "        vertical-align: middle;\n",
       "    }\n",
       "\n",
       "    .dataframe tbody tr th {\n",
       "        vertical-align: top;\n",
       "    }\n",
       "\n",
       "    .dataframe thead th {\n",
       "        text-align: right;\n",
       "    }\n",
       "</style>\n",
       "<table border=\"1\" class=\"dataframe\">\n",
       "  <thead>\n",
       "    <tr style=\"text-align: right;\">\n",
       "      <th></th>\n",
       "      <th>properties.pop2amu65</th>\n",
       "      <th>properties.pop2amo65</th>\n",
       "      <th>properties.pop2pmu65</th>\n",
       "      <th>properties.pop2pmo65</th>\n",
       "      <th>properties.sqft</th>\n",
       "      <th>properties.num_story</th>\n",
       "      <th>properties.ftprntid</th>\n",
       "      <th>properties.ftprntsrc</th>\n",
       "      <th>properties.students</th>\n",
       "      <th>properties.found_ht</th>\n",
       "    </tr>\n",
       "  </thead>\n",
       "  <tbody>\n",
       "    <tr>\n",
       "      <th>0</th>\n",
       "      <td>78</td>\n",
       "      <td>25</td>\n",
       "      <td>45</td>\n",
       "      <td>25</td>\n",
       "      <td>3000.000</td>\n",
       "      <td>1</td>\n",
       "      <td>36061_2107</td>\n",
       "      <td>MBL</td>\n",
       "      <td>0</td>\n",
       "      <td>0.5</td>\n",
       "    </tr>\n",
       "    <tr>\n",
       "      <th>1</th>\n",
       "      <td>88</td>\n",
       "      <td>24</td>\n",
       "      <td>43</td>\n",
       "      <td>24</td>\n",
       "      <td>1813.608</td>\n",
       "      <td>2</td>\n",
       "      <td>36061_2142</td>\n",
       "      <td>MBL</td>\n",
       "      <td>0</td>\n",
       "      <td>0.5</td>\n",
       "    </tr>\n",
       "    <tr>\n",
       "      <th>2</th>\n",
       "      <td>1</td>\n",
       "      <td>0</td>\n",
       "      <td>6</td>\n",
       "      <td>1</td>\n",
       "      <td>10000.000</td>\n",
       "      <td>1</td>\n",
       "      <td>36061_4177</td>\n",
       "      <td>MBL</td>\n",
       "      <td>0</td>\n",
       "      <td>0.5</td>\n",
       "    </tr>\n",
       "    <tr>\n",
       "      <th>3</th>\n",
       "      <td>87</td>\n",
       "      <td>16</td>\n",
       "      <td>34</td>\n",
       "      <td>16</td>\n",
       "      <td>3301.125</td>\n",
       "      <td>1</td>\n",
       "      <td>36061_7823</td>\n",
       "      <td>MBL</td>\n",
       "      <td>0</td>\n",
       "      <td>0.5</td>\n",
       "    </tr>\n",
       "    <tr>\n",
       "      <th>4</th>\n",
       "      <td>2</td>\n",
       "      <td>0</td>\n",
       "      <td>40</td>\n",
       "      <td>1</td>\n",
       "      <td>29057.000</td>\n",
       "      <td>1</td>\n",
       "      <td>36061_13703</td>\n",
       "      <td>MBL</td>\n",
       "      <td>0</td>\n",
       "      <td>0.5</td>\n",
       "    </tr>\n",
       "  </tbody>\n",
       "</table>\n",
       "</div>"
      ],
      "text/plain": [
       "   properties.pop2amu65  properties.pop2amo65  properties.pop2pmu65  \\\n",
       "0                    78                    25                    45   \n",
       "1                    88                    24                    43   \n",
       "2                     1                     0                     6   \n",
       "3                    87                    16                    34   \n",
       "4                     2                     0                    40   \n",
       "\n",
       "   properties.pop2pmo65  properties.sqft  properties.num_story  \\\n",
       "0                    25         3000.000                     1   \n",
       "1                    24         1813.608                     2   \n",
       "2                     1        10000.000                     1   \n",
       "3                    16         3301.125                     1   \n",
       "4                     1        29057.000                     1   \n",
       "\n",
       "  properties.ftprntid properties.ftprntsrc  properties.students  \\\n",
       "0          36061_2107                  MBL                    0   \n",
       "1          36061_2142                  MBL                    0   \n",
       "2          36061_4177                  MBL                    0   \n",
       "3          36061_7823                  MBL                    0   \n",
       "4         36061_13703                  MBL                    0   \n",
       "\n",
       "   properties.found_ht  \n",
       "0                  0.5  \n",
       "1                  0.5  \n",
       "2                  0.5  \n",
       "3                  0.5  \n",
       "4                  0.5  "
      ]
     },
     "execution_count": 8,
     "metadata": {},
     "output_type": "execute_result"
    }
   ],
   "source": [
    "df.iloc[:5, 10:20]"
   ]
  },
  {
   "cell_type": "code",
   "execution_count": 9,
   "id": "1b5f4e51",
   "metadata": {},
   "outputs": [
    {
     "data": {
      "text/html": [
       "<div>\n",
       "<style scoped>\n",
       "    .dataframe tbody tr th:only-of-type {\n",
       "        vertical-align: middle;\n",
       "    }\n",
       "\n",
       "    .dataframe tbody tr th {\n",
       "        vertical-align: top;\n",
       "    }\n",
       "\n",
       "    .dataframe thead th {\n",
       "        text-align: right;\n",
       "    }\n",
       "</style>\n",
       "<table border=\"1\" class=\"dataframe\">\n",
       "  <thead>\n",
       "    <tr style=\"text-align: right;\">\n",
       "      <th></th>\n",
       "      <th>properties.val_struct</th>\n",
       "      <th>properties.val_cont</th>\n",
       "      <th>properties.val_vehic</th>\n",
       "      <th>properties.source</th>\n",
       "      <th>properties.med_yr_blt</th>\n",
       "      <th>properties.firmzone</th>\n",
       "      <th>properties.o65disable</th>\n",
       "      <th>properties.u65disable</th>\n",
       "      <th>properties.x</th>\n",
       "      <th>properties.y</th>\n",
       "      <th>properties.ground_elv</th>\n",
       "      <th>properties.ground_elv_m</th>\n",
       "    </tr>\n",
       "  </thead>\n",
       "  <tbody>\n",
       "    <tr>\n",
       "      <th>0</th>\n",
       "      <td>748866.702</td>\n",
       "      <td>374433.351</td>\n",
       "      <td>135000</td>\n",
       "      <td>X</td>\n",
       "      <td>1939</td>\n",
       "      <td>None</td>\n",
       "      <td>0.25</td>\n",
       "      <td>0.03</td>\n",
       "      <td>-73.998410</td>\n",
       "      <td>40.714656</td>\n",
       "      <td>30.833406</td>\n",
       "      <td>9.398022</td>\n",
       "    </tr>\n",
       "    <tr>\n",
       "      <th>1</th>\n",
       "      <td>461254.616</td>\n",
       "      <td>230627.308</td>\n",
       "      <td>27000</td>\n",
       "      <td>X</td>\n",
       "      <td>1939</td>\n",
       "      <td>None</td>\n",
       "      <td>0.25</td>\n",
       "      <td>0.03</td>\n",
       "      <td>-73.997441</td>\n",
       "      <td>40.714627</td>\n",
       "      <td>36.259209</td>\n",
       "      <td>11.051806</td>\n",
       "    </tr>\n",
       "    <tr>\n",
       "      <th>2</th>\n",
       "      <td>1027723.520</td>\n",
       "      <td>1027723.520</td>\n",
       "      <td>36000</td>\n",
       "      <td>X</td>\n",
       "      <td>1975</td>\n",
       "      <td>None</td>\n",
       "      <td>0.25</td>\n",
       "      <td>0.03</td>\n",
       "      <td>-74.011070</td>\n",
       "      <td>40.719515</td>\n",
       "      <td>9.820276</td>\n",
       "      <td>2.993220</td>\n",
       "    </tr>\n",
       "    <tr>\n",
       "      <th>3</th>\n",
       "      <td>818059.354</td>\n",
       "      <td>409029.677</td>\n",
       "      <td>54000</td>\n",
       "      <td>X</td>\n",
       "      <td>1939</td>\n",
       "      <td>None</td>\n",
       "      <td>0.25</td>\n",
       "      <td>0.03</td>\n",
       "      <td>-73.997247</td>\n",
       "      <td>40.721022</td>\n",
       "      <td>32.165671</td>\n",
       "      <td>9.804096</td>\n",
       "    </tr>\n",
       "    <tr>\n",
       "      <th>4</th>\n",
       "      <td>5813544.000</td>\n",
       "      <td>5813544.000</td>\n",
       "      <td>234000</td>\n",
       "      <td>X</td>\n",
       "      <td>1959</td>\n",
       "      <td>None</td>\n",
       "      <td>0.25</td>\n",
       "      <td>0.03</td>\n",
       "      <td>-73.984015</td>\n",
       "      <td>40.718307</td>\n",
       "      <td>23.983126</td>\n",
       "      <td>7.310057</td>\n",
       "    </tr>\n",
       "  </tbody>\n",
       "</table>\n",
       "</div>"
      ],
      "text/plain": [
       "   properties.val_struct  properties.val_cont  properties.val_vehic  \\\n",
       "0             748866.702           374433.351                135000   \n",
       "1             461254.616           230627.308                 27000   \n",
       "2            1027723.520          1027723.520                 36000   \n",
       "3             818059.354           409029.677                 54000   \n",
       "4            5813544.000          5813544.000                234000   \n",
       "\n",
       "  properties.source  properties.med_yr_blt properties.firmzone  \\\n",
       "0                 X                   1939                None   \n",
       "1                 X                   1939                None   \n",
       "2                 X                   1975                None   \n",
       "3                 X                   1939                None   \n",
       "4                 X                   1959                None   \n",
       "\n",
       "   properties.o65disable  properties.u65disable  properties.x  properties.y  \\\n",
       "0                   0.25                   0.03    -73.998410     40.714656   \n",
       "1                   0.25                   0.03    -73.997441     40.714627   \n",
       "2                   0.25                   0.03    -74.011070     40.719515   \n",
       "3                   0.25                   0.03    -73.997247     40.721022   \n",
       "4                   0.25                   0.03    -73.984015     40.718307   \n",
       "\n",
       "   properties.ground_elv  properties.ground_elv_m  \n",
       "0              30.833406                 9.398022  \n",
       "1              36.259209                11.051806  \n",
       "2               9.820276                 2.993220  \n",
       "3              32.165671                 9.804096  \n",
       "4              23.983126                 7.310057  "
      ]
     },
     "execution_count": 9,
     "metadata": {},
     "output_type": "execute_result"
    }
   ],
   "source": [
    "df.iloc[:5, 20:]"
   ]
  },
  {
   "cell_type": "markdown",
   "id": "39a2dadd",
   "metadata": {},
   "source": [
    "# Map Codes to Names"
   ]
  },
  {
   "cell_type": "code",
   "execution_count": 10,
   "id": "af038cee",
   "metadata": {},
   "outputs": [
    {
     "data": {
      "text/plain": [
       "{'M': 'Masonry',\n",
       " 'W': 'Wood',\n",
       " 'H': 'Manufactured',\n",
       " 'S': 'Steel',\n",
       " 'C': 'Concrete'}"
      ]
     },
     "execution_count": 10,
     "metadata": {},
     "output_type": "execute_result"
    }
   ],
   "source": [
    "# map building type codes to names\n",
    "bldgtype_names = {\n",
    "    \"M\":\"Masonry\",\n",
    "    \"W\":\"Wood\",\n",
    "    \"H\":\"Manufactured\",\n",
    "    \"S\":\"Steel\",\n",
    "    \"C\":\"Concrete\"\n",
    "}\n",
    "\n",
    "# sanity check\n",
    "bldgtype_names"
   ]
  },
  {
   "cell_type": "code",
   "execution_count": 11,
   "id": "25f14dfc",
   "metadata": {},
   "outputs": [
    {
     "data": {
      "text/plain": [
       "properties.bldgtype  properties.bldgtype_names\n",
       "C                    Concrete                     54053\n",
       "H                    Manufactured                     6\n",
       "M                    Masonry                      22012\n",
       "S                    Steel                        28392\n",
       "W                    Wood                         58570\n",
       "Name: properties.fd_id, dtype: int64"
      ]
     },
     "execution_count": 11,
     "metadata": {},
     "output_type": "execute_result"
    }
   ],
   "source": [
    "# map building type codes to names\n",
    "df['properties.bldgtype_names'] = df['properties.bldgtype'].replace(bldgtype_names)\n",
    "\n",
    "# sanity check\n",
    "(df\n",
    " .groupby(\n",
    "     by=['properties.bldgtype', 'properties.bldgtype_names'])['properties.fd_id']\n",
    " .count()\n",
    ")"
   ]
  },
  {
   "cell_type": "code",
   "execution_count": 12,
   "id": "7add8cb4",
   "metadata": {},
   "outputs": [
    {
     "data": {
      "text/plain": [
       "{'C': 'Crawl',\n",
       " 'B': 'Basement',\n",
       " 'S': 'Slab',\n",
       " 'P': 'Pier',\n",
       " 'I': 'Pile',\n",
       " 'F': 'Fill',\n",
       " 'W': 'Solid Wall'}"
      ]
     },
     "execution_count": 12,
     "metadata": {},
     "output_type": "execute_result"
    }
   ],
   "source": [
    "# map foundation type codes to names\n",
    "found_type_names = {\n",
    "    \"C\":\"Crawl\",\n",
    "    \"B\":\"Basement\",\n",
    "    \"S\":\"Slab\",\n",
    "    \"P\":\"Pier\",\n",
    "    \"I\":\"Pile\",\n",
    "    \"F\":\"Fill\",\n",
    "    \"W\":\"Solid Wall\"\n",
    "}\n",
    "\n",
    "# sanity check\n",
    "found_type_names"
   ]
  },
  {
   "cell_type": "code",
   "execution_count": 13,
   "id": "51eaf0e9",
   "metadata": {},
   "outputs": [
    {
     "data": {
      "text/plain": [
       "properties.found_type  properties.found_type_names\n",
       "B                      Basement                       80023\n",
       "C                      Crawl                          16659\n",
       "I                      Pile                            8429\n",
       "P                      Pier                            1745\n",
       "S                      Slab                           55515\n",
       "W                      Solid Wall                       662\n",
       "Name: properties.fd_id, dtype: int64"
      ]
     },
     "execution_count": 13,
     "metadata": {},
     "output_type": "execute_result"
    }
   ],
   "source": [
    "# map foundation type codes to names\n",
    "df['properties.found_type_names'] = df['properties.found_type'].replace(found_type_names)\n",
    "\n",
    "# sanity check\n",
    "(df\n",
    " .groupby(\n",
    "     by=['properties.found_type', 'properties.found_type_names'])['properties.fd_id']\n",
    " .count()\n",
    ")"
   ]
  },
  {
   "cell_type": "markdown",
   "id": "8749dfc8",
   "metadata": {},
   "source": [
    "# Examine Spatially"
   ]
  },
  {
   "cell_type": "code",
   "execution_count": 14,
   "id": "7f86ba4e",
   "metadata": {},
   "outputs": [
    {
     "name": "stdout",
     "output_type": "stream",
     "text": [
      "EPSG:4326\n"
     ]
    },
    {
     "data": {
      "text/html": [
       "<div>\n",
       "<style scoped>\n",
       "    .dataframe tbody tr th:only-of-type {\n",
       "        vertical-align: middle;\n",
       "    }\n",
       "\n",
       "    .dataframe tbody tr th {\n",
       "        vertical-align: top;\n",
       "    }\n",
       "\n",
       "    .dataframe thead th {\n",
       "        text-align: right;\n",
       "    }\n",
       "</style>\n",
       "<table border=\"1\" class=\"dataframe\">\n",
       "  <thead>\n",
       "    <tr style=\"text-align: right;\">\n",
       "      <th></th>\n",
       "      <th>type</th>\n",
       "      <th>geometry.type</th>\n",
       "      <th>geometry.coordinates</th>\n",
       "      <th>properties.fd_id</th>\n",
       "      <th>properties.bid</th>\n",
       "      <th>properties.occtype</th>\n",
       "      <th>properties.st_damcat</th>\n",
       "      <th>properties.bldgtype</th>\n",
       "      <th>properties.found_type</th>\n",
       "      <th>properties.cbfips</th>\n",
       "      <th>...</th>\n",
       "      <th>properties.firmzone</th>\n",
       "      <th>properties.o65disable</th>\n",
       "      <th>properties.u65disable</th>\n",
       "      <th>properties.x</th>\n",
       "      <th>properties.y</th>\n",
       "      <th>properties.ground_elv</th>\n",
       "      <th>properties.ground_elv_m</th>\n",
       "      <th>properties.bldgtype_names</th>\n",
       "      <th>properties.found_type_names</th>\n",
       "      <th>geometry</th>\n",
       "    </tr>\n",
       "  </thead>\n",
       "  <tbody>\n",
       "    <tr>\n",
       "      <th>0</th>\n",
       "      <td>Feature</td>\n",
       "      <td>Point</td>\n",
       "      <td>[-73.99841, 40.714656]</td>\n",
       "      <td>554079197</td>\n",
       "      <td>87G8P272+VJ8-1-1-2-1</td>\n",
       "      <td>RES3C</td>\n",
       "      <td>RES</td>\n",
       "      <td>W</td>\n",
       "      <td>B</td>\n",
       "      <td>360610029003003</td>\n",
       "      <td>...</td>\n",
       "      <td>None</td>\n",
       "      <td>0.25</td>\n",
       "      <td>0.03</td>\n",
       "      <td>-73.998410</td>\n",
       "      <td>40.714656</td>\n",
       "      <td>30.833406</td>\n",
       "      <td>9.398022</td>\n",
       "      <td>Wood</td>\n",
       "      <td>Basement</td>\n",
       "      <td>POINT (-73.99841 40.71466)</td>\n",
       "    </tr>\n",
       "    <tr>\n",
       "      <th>1</th>\n",
       "      <td>Feature</td>\n",
       "      <td>Point</td>\n",
       "      <td>[-73.997441, 40.714627]</td>\n",
       "      <td>554079269</td>\n",
       "      <td>87G8P273+V23-2-5-3-4</td>\n",
       "      <td>RES3A</td>\n",
       "      <td>RES</td>\n",
       "      <td>M</td>\n",
       "      <td>S</td>\n",
       "      <td>360610029003004</td>\n",
       "      <td>...</td>\n",
       "      <td>None</td>\n",
       "      <td>0.25</td>\n",
       "      <td>0.03</td>\n",
       "      <td>-73.997441</td>\n",
       "      <td>40.714627</td>\n",
       "      <td>36.259209</td>\n",
       "      <td>11.051806</td>\n",
       "      <td>Masonry</td>\n",
       "      <td>Slab</td>\n",
       "      <td>POINT (-73.99744 40.71463)</td>\n",
       "    </tr>\n",
       "    <tr>\n",
       "      <th>2</th>\n",
       "      <td>Feature</td>\n",
       "      <td>Point</td>\n",
       "      <td>[-74.01107, 40.719515]</td>\n",
       "      <td>554096858</td>\n",
       "      <td>87G7PX9Q+RH3-1-1-1-1</td>\n",
       "      <td>IND6</td>\n",
       "      <td>IND</td>\n",
       "      <td>S</td>\n",
       "      <td>S</td>\n",
       "      <td>360610039002001</td>\n",
       "      <td>...</td>\n",
       "      <td>None</td>\n",
       "      <td>0.25</td>\n",
       "      <td>0.03</td>\n",
       "      <td>-74.011070</td>\n",
       "      <td>40.719515</td>\n",
       "      <td>9.820276</td>\n",
       "      <td>2.993220</td>\n",
       "      <td>Steel</td>\n",
       "      <td>Slab</td>\n",
       "      <td>POINT (-74.01107 40.71952)</td>\n",
       "    </tr>\n",
       "    <tr>\n",
       "      <th>3</th>\n",
       "      <td>Feature</td>\n",
       "      <td>Point</td>\n",
       "      <td>[-73.997247, 40.721022]</td>\n",
       "      <td>554126006</td>\n",
       "      <td>87G8P2C3+C42-8-6-8-7</td>\n",
       "      <td>RES3A</td>\n",
       "      <td>RES</td>\n",
       "      <td>W</td>\n",
       "      <td>S</td>\n",
       "      <td>360610041006002</td>\n",
       "      <td>...</td>\n",
       "      <td>None</td>\n",
       "      <td>0.25</td>\n",
       "      <td>0.03</td>\n",
       "      <td>-73.997247</td>\n",
       "      <td>40.721022</td>\n",
       "      <td>32.165671</td>\n",
       "      <td>9.804096</td>\n",
       "      <td>Wood</td>\n",
       "      <td>Slab</td>\n",
       "      <td>POINT (-73.99725 40.72102)</td>\n",
       "    </tr>\n",
       "    <tr>\n",
       "      <th>4</th>\n",
       "      <td>Feature</td>\n",
       "      <td>Point</td>\n",
       "      <td>[-73.984015, 40.718307]</td>\n",
       "      <td>554175328</td>\n",
       "      <td>87G8P298+89H-10-11-11-11</td>\n",
       "      <td>EDU1</td>\n",
       "      <td>PUB</td>\n",
       "      <td>S</td>\n",
       "      <td>S</td>\n",
       "      <td>360610014022000</td>\n",
       "      <td>...</td>\n",
       "      <td>None</td>\n",
       "      <td>0.25</td>\n",
       "      <td>0.03</td>\n",
       "      <td>-73.984015</td>\n",
       "      <td>40.718307</td>\n",
       "      <td>23.983126</td>\n",
       "      <td>7.310057</td>\n",
       "      <td>Steel</td>\n",
       "      <td>Slab</td>\n",
       "      <td>POINT (-73.98401 40.71831)</td>\n",
       "    </tr>\n",
       "  </tbody>\n",
       "</table>\n",
       "<p>5 rows × 35 columns</p>\n",
       "</div>"
      ],
      "text/plain": [
       "      type geometry.type     geometry.coordinates  properties.fd_id  \\\n",
       "0  Feature         Point   [-73.99841, 40.714656]         554079197   \n",
       "1  Feature         Point  [-73.997441, 40.714627]         554079269   \n",
       "2  Feature         Point   [-74.01107, 40.719515]         554096858   \n",
       "3  Feature         Point  [-73.997247, 40.721022]         554126006   \n",
       "4  Feature         Point  [-73.984015, 40.718307]         554175328   \n",
       "\n",
       "             properties.bid properties.occtype properties.st_damcat  \\\n",
       "0      87G8P272+VJ8-1-1-2-1              RES3C                  RES   \n",
       "1      87G8P273+V23-2-5-3-4              RES3A                  RES   \n",
       "2      87G7PX9Q+RH3-1-1-1-1               IND6                  IND   \n",
       "3      87G8P2C3+C42-8-6-8-7              RES3A                  RES   \n",
       "4  87G8P298+89H-10-11-11-11               EDU1                  PUB   \n",
       "\n",
       "  properties.bldgtype properties.found_type properties.cbfips  ...  \\\n",
       "0                   W                     B   360610029003003  ...   \n",
       "1                   M                     S   360610029003004  ...   \n",
       "2                   S                     S   360610039002001  ...   \n",
       "3                   W                     S   360610041006002  ...   \n",
       "4                   S                     S   360610014022000  ...   \n",
       "\n",
       "   properties.firmzone  properties.o65disable  properties.u65disable  \\\n",
       "0                 None                   0.25                   0.03   \n",
       "1                 None                   0.25                   0.03   \n",
       "2                 None                   0.25                   0.03   \n",
       "3                 None                   0.25                   0.03   \n",
       "4                 None                   0.25                   0.03   \n",
       "\n",
       "   properties.x  properties.y  properties.ground_elv properties.ground_elv_m  \\\n",
       "0    -73.998410     40.714656              30.833406                9.398022   \n",
       "1    -73.997441     40.714627              36.259209               11.051806   \n",
       "2    -74.011070     40.719515               9.820276                2.993220   \n",
       "3    -73.997247     40.721022              32.165671                9.804096   \n",
       "4    -73.984015     40.718307              23.983126                7.310057   \n",
       "\n",
       "  properties.bldgtype_names  properties.found_type_names  \\\n",
       "0                      Wood                     Basement   \n",
       "1                   Masonry                         Slab   \n",
       "2                     Steel                         Slab   \n",
       "3                      Wood                         Slab   \n",
       "4                     Steel                         Slab   \n",
       "\n",
       "                     geometry  \n",
       "0  POINT (-73.99841 40.71466)  \n",
       "1  POINT (-73.99744 40.71463)  \n",
       "2  POINT (-74.01107 40.71952)  \n",
       "3  POINT (-73.99725 40.72102)  \n",
       "4  POINT (-73.98401 40.71831)  \n",
       "\n",
       "[5 rows x 35 columns]"
      ]
     },
     "execution_count": 14,
     "metadata": {},
     "output_type": "execute_result"
    }
   ],
   "source": [
    "gdf = gpd.GeoDataFrame(\n",
    "    df,\n",
    "    geometry=gpd.points_from_xy(df['properties.x'], df['properties.y']),\n",
    "    crs=\"EPSG:4326\"\n",
    ")\n",
    "\n",
    "print(gdf.crs)\n",
    "gdf.head()"
   ]
  },
  {
   "cell_type": "code",
   "execution_count": 15,
   "id": "bfee9143",
   "metadata": {},
   "outputs": [
    {
     "data": {
      "text/plain": [
       "<AxesSubplot: >"
      ]
     },
     "execution_count": 15,
     "metadata": {},
     "output_type": "execute_result"
    },
    {
     "data": {
      "image/png": "[encoded data removed]",
      "text/plain": [
       "<Figure size 640x480 with 1 Axes>"
      ]
     },
     "metadata": {},
     "output_type": "display_data"
    }
   ],
   "source": [
    "# sanity check of point locations\n",
    "gdf.plot()"
   ]
  },
  {
   "cell_type": "markdown",
   "id": "2546ff47",
   "metadata": {},
   "source": [
    "# Examine Distribution of Values for Specified Columns"
   ]
  },
  {
   "cell_type": "markdown",
   "id": "8d95f4d9",
   "metadata": {},
   "source": [
    "## Counts for Categorical Columns"
   ]
  },
  {
   "cell_type": "code",
   "execution_count": 16,
   "id": "4b5ba79d",
   "metadata": {},
   "outputs": [
    {
     "data": {
      "text/plain": [
       "P    148355\n",
       "E     11773\n",
       "X      2348\n",
       "S       499\n",
       "N        30\n",
       "H        28\n",
       "Name: properties.source, dtype: int64"
      ]
     },
     "execution_count": 16,
     "metadata": {},
     "output_type": "execute_result"
    }
   ],
   "source": [
    "df['properties.source'].value_counts()"
   ]
  },
  {
   "cell_type": "code",
   "execution_count": 17,
   "id": "813eff12",
   "metadata": {},
   "outputs": [
    {
     "data": {
      "text/plain": [
       "MBL     48460\n",
       "NGA      1030\n",
       "Bing      274\n",
       "ORNL      169\n",
       "Name: properties.ftprntsrc, dtype: int64"
      ]
     },
     "execution_count": 17,
     "metadata": {},
     "output_type": "execute_result"
    }
   ],
   "source": [
    "df['properties.ftprntsrc'].value_counts()"
   ]
  },
  {
   "cell_type": "code",
   "execution_count": 18,
   "id": "d2415ab7",
   "metadata": {},
   "outputs": [
    {
     "data": {
      "text/plain": [
       "Wood            58570\n",
       "Concrete        54053\n",
       "Steel           28392\n",
       "Masonry         22012\n",
       "Manufactured        6\n",
       "Name: properties.bldgtype_names, dtype: int64"
      ]
     },
     "execution_count": 18,
     "metadata": {},
     "output_type": "execute_result"
    }
   ],
   "source": [
    "df['properties.bldgtype_names'].value_counts()"
   ]
  },
  {
   "cell_type": "code",
   "execution_count": 19,
   "id": "97fb03be",
   "metadata": {},
   "outputs": [
    {
     "data": {
      "text/plain": [
       "RES1-1SWB    41416\n",
       "RES1-1SNB    21765\n",
       "RES1-2SWB    16621\n",
       "COM1         11131\n",
       "RES1-2SNB     9072\n",
       "COM4          8129\n",
       "RES1-3SWB     6620\n",
       "IND2          5071\n",
       "RES3E         5069\n",
       "RES4          4564\n",
       "RES3D         4042\n",
       "RES1-3SNB     3958\n",
       "RES3B         3656\n",
       "RES3A         3234\n",
       "RES3C         3144\n",
       "RES3F         2764\n",
       "COM8          2113\n",
       "COM3          2067\n",
       "REL1          1655\n",
       "COM2          1101\n",
       "Name: properties.occtype, dtype: int64"
      ]
     },
     "execution_count": 19,
     "metadata": {},
     "output_type": "execute_result"
    }
   ],
   "source": [
    "df['properties.occtype'].value_counts().head(20)"
   ]
  },
  {
   "cell_type": "code",
   "execution_count": 20,
   "id": "0320b966",
   "metadata": {},
   "outputs": [
    {
     "data": {
      "text/plain": [
       "RES    121365\n",
       "COM     32294\n",
       "IND      6048\n",
       "PUB      3326\n",
       "Name: properties.st_damcat, dtype: int64"
      ]
     },
     "execution_count": 20,
     "metadata": {},
     "output_type": "execute_result"
    }
   ],
   "source": [
    "df['properties.st_damcat'].value_counts()"
   ]
  },
  {
   "cell_type": "code",
   "execution_count": 21,
   "id": "8713cd52",
   "metadata": {},
   "outputs": [
    {
     "data": {
      "text/plain": [
       "B    80023\n",
       "S    55515\n",
       "C    16659\n",
       "I     8429\n",
       "P     1745\n",
       "W      662\n",
       "Name: properties.found_type, dtype: int64"
      ]
     },
     "execution_count": 21,
     "metadata": {},
     "output_type": "execute_result"
    }
   ],
   "source": [
    "df['properties.found_type'].value_counts()"
   ]
  },
  {
   "cell_type": "code",
   "execution_count": 22,
   "id": "40bfa6b5",
   "metadata": {},
   "outputs": [
    {
     "data": {
      "text/plain": [
       "Basement      80023\n",
       "Slab          55515\n",
       "Crawl         16659\n",
       "Pile           8429\n",
       "Pier           1745\n",
       "Solid Wall      662\n",
       "Name: properties.found_type_names, dtype: int64"
      ]
     },
     "execution_count": 22,
     "metadata": {},
     "output_type": "execute_result"
    }
   ],
   "source": [
    "df['properties.found_type_names'].value_counts()"
   ]
  },
  {
   "cell_type": "code",
   "execution_count": 41,
   "id": "9be7012c",
   "metadata": {},
   "outputs": [
    {
     "data": {
      "text/plain": [
       "properties.found_type_names  properties.found_ht\n",
       "Basement                     0.5                    10488\n",
       "                             2.0                    69535\n",
       "Crawl                        0.5                     2804\n",
       "                             1.5                    13855\n",
       "Pier                         8.0                     1745\n",
       "Pile                         8.0                     8429\n",
       "Slab                         0.5                    55514\n",
       "                             2.0                        1\n",
       "Solid Wall                   0.5                      122\n",
       "                             1.5                      540\n",
       "Name: properties.fd_id, dtype: int64"
      ]
     },
     "execution_count": 41,
     "metadata": {},
     "output_type": "execute_result"
    }
   ],
   "source": [
    "# counts grouped by foundation type and height\n",
    "(df\n",
    " .groupby(by=['properties.found_type_names', 'properties.found_ht'])['properties.fd_id']\n",
    " .count()\n",
    ")"
   ]
  },
  {
   "cell_type": "markdown",
   "id": "41d945c6",
   "metadata": {},
   "source": [
    "# Analyzing Foundation Height"
   ]
  },
  {
   "cell_type": "code",
   "execution_count": 23,
   "id": "c21fc2b0",
   "metadata": {},
   "outputs": [
    {
     "data": {
      "text/plain": [
       "<AxesSubplot: xlabel='properties.found_ht', ylabel='Count'>"
      ]
     },
     "execution_count": 23,
     "metadata": {},
     "output_type": "execute_result"
    },
    {
     "data": {
      "image/png": "[encoded data removed]",
      "text/plain": [
       "<Figure size 640x480 with 1 Axes>"
      ]
     },
     "metadata": {},
     "output_type": "display_data"
    }
   ],
   "source": [
    "sns.histplot(df['properties.found_ht'], bins=20)"
   ]
  },
  {
   "cell_type": "code",
   "execution_count": 24,
   "id": "190211da",
   "metadata": {},
   "outputs": [
    {
     "data": {
      "text/plain": [
       "<AxesSubplot: xlabel='properties.found_ht', ylabel='count'>"
      ]
     },
     "execution_count": 24,
     "metadata": {},
     "output_type": "execute_result"
    },
    {
     "data": {
      "image/png": "[encoded data removed]",
      "text/plain": [
       "<Figure size 640x480 with 1 Axes>"
      ]
     },
     "metadata": {},
     "output_type": "display_data"
    }
   ],
   "source": [
    "# bar plot and not a histogram\n",
    "sns.countplot(\n",
    "    data=df,\n",
    "    x='properties.found_ht',\n",
    "    color=\"C0\"\n",
    ")"
   ]
  },
  {
   "cell_type": "code",
   "execution_count": 25,
   "id": "b85b5f5d",
   "metadata": {},
   "outputs": [
    {
     "data": {
      "text/plain": [
       "<AxesSubplot: ylabel='properties.found_ht'>"
      ]
     },
     "execution_count": 25,
     "metadata": {},
     "output_type": "execute_result"
    },
    {
     "data": {
      "image/png": "[encoded data removed]",
      "text/plain": [
       "<Figure size 640x480 with 1 Axes>"
      ]
     },
     "metadata": {},
     "output_type": "display_data"
    }
   ],
   "source": [
    "sns.boxplot(\n",
    "    data=df,\n",
    "    y='properties.found_ht'\n",
    ")"
   ]
  },
  {
   "cell_type": "code",
   "execution_count": 26,
   "id": "b4c67f33",
   "metadata": {},
   "outputs": [
    {
     "data": {
      "text/plain": [
       "2.0    69536\n",
       "0.5    68928\n",
       "1.5    14395\n",
       "8.0    10174\n",
       "Name: properties.found_ht, dtype: int64"
      ]
     },
     "execution_count": 26,
     "metadata": {},
     "output_type": "execute_result"
    }
   ],
   "source": [
    "df['properties.found_ht'].value_counts()"
   ]
  },
  {
   "cell_type": "markdown",
   "id": "5892a897",
   "metadata": {},
   "source": [
    "# Examine Relationship of Other Attributes on Foundation Height"
   ]
  },
  {
   "cell_type": "code",
   "execution_count": 27,
   "id": "0338927f",
   "metadata": {},
   "outputs": [
    {
     "data": {
      "text/plain": [
       "<AxesSubplot: xlabel='properties.found_type_names', ylabel='properties.found_ht'>"
      ]
     },
     "execution_count": 27,
     "metadata": {},
     "output_type": "execute_result"
    },
    {
     "data": {
      "image/png": "[encoded data removed]",
      "text/plain": [
       "<Figure size 640x480 with 1 Axes>"
      ]
     },
     "metadata": {},
     "output_type": "display_data"
    }
   ],
   "source": [
    "sns.boxplot(\n",
    "    data=df,\n",
    "    x=\"properties.found_type_names\",\n",
    "    y=\"properties.found_ht\"\n",
    ")"
   ]
  },
  {
   "cell_type": "code",
   "execution_count": 28,
   "id": "3e6137f1",
   "metadata": {},
   "outputs": [
    {
     "data": {
      "text/plain": [
       "<AxesSubplot: xlabel='properties.bldgtype_names', ylabel='properties.found_ht'>"
      ]
     },
     "execution_count": 28,
     "metadata": {},
     "output_type": "execute_result"
    },
    {
     "data": {
      "image/png": "[encoded data removed]",
      "text/plain": [
       "<Figure size 640x480 with 1 Axes>"
      ]
     },
     "metadata": {},
     "output_type": "display_data"
    }
   ],
   "source": [
    "sns.boxplot(\n",
    "    data=df,\n",
    "    x=\"properties.bldgtype_names\",\n",
    "    y=\"properties.found_ht\",\n",
    "    color=\"C0\"\n",
    ")"
   ]
  },
  {
   "cell_type": "code",
   "execution_count": 29,
   "id": "0ac61eb2",
   "metadata": {},
   "outputs": [
    {
     "data": {
      "text/plain": [
       "<AxesSubplot: xlabel='properties.ground_elv', ylabel='properties.found_ht'>"
      ]
     },
     "execution_count": 29,
     "metadata": {},
     "output_type": "execute_result"
    },
    {
     "data": {
      "image/png": "[encoded data removed]",
      "text/plain": [
       "<Figure size 640x480 with 1 Axes>"
      ]
     },
     "metadata": {},
     "output_type": "display_data"
    }
   ],
   "source": [
    "sns.scatterplot(\n",
    "    data=df,\n",
    "    x=\"properties.ground_elv\",\n",
    "    y=\"properties.found_ht\"\n",
    ")"
   ]
  },
  {
   "cell_type": "code",
   "execution_count": 30,
   "id": "41d9d568",
   "metadata": {},
   "outputs": [
    {
     "data": {
      "text/plain": [
       "<AxesSubplot: xlabel='properties.sqft', ylabel='properties.found_ht'>"
      ]
     },
     "execution_count": 30,
     "metadata": {},
     "output_type": "execute_result"
    },
    {
     "data": {
      "image/png": "[encoded data removed]",
      "text/plain": [
       "<Figure size 640x480 with 1 Axes>"
      ]
     },
     "metadata": {},
     "output_type": "display_data"
    }
   ],
   "source": [
    "sns.scatterplot(\n",
    "    data=df,\n",
    "    x=\"properties.sqft\",\n",
    "    y=\"properties.found_ht\"\n",
    ")"
   ]
  },
  {
   "cell_type": "code",
   "execution_count": 31,
   "id": "066c3315",
   "metadata": {},
   "outputs": [
    {
     "data": {
      "text/plain": [
       "<AxesSubplot: xlabel='properties.num_story', ylabel='properties.found_ht'>"
      ]
     },
     "execution_count": 31,
     "metadata": {},
     "output_type": "execute_result"
    },
    {
     "data": {
      "image/png": "[encoded data removed]",
      "text/plain": [
       "<Figure size 640x480 with 1 Axes>"
      ]
     },
     "metadata": {},
     "output_type": "display_data"
    }
   ],
   "source": [
    "sns.scatterplot(\n",
    "    data=df,\n",
    "    x=\"properties.num_story\",\n",
    "    y=\"properties.found_ht\"\n",
    ")"
   ]
  },
  {
   "cell_type": "code",
   "execution_count": 32,
   "id": "29a33129",
   "metadata": {},
   "outputs": [
    {
     "data": {
      "text/plain": [
       "<AxesSubplot: xlabel='properties.val_struct', ylabel='properties.found_ht'>"
      ]
     },
     "execution_count": 32,
     "metadata": {},
     "output_type": "execute_result"
    },
    {
     "data": {
      "image/png": "[encoded data removed]",
      "text/plain": [
       "<Figure size 640x480 with 1 Axes>"
      ]
     },
     "metadata": {},
     "output_type": "display_data"
    }
   ],
   "source": [
    "sns.scatterplot(\n",
    "    data=df,\n",
    "    x=\"properties.val_struct\",\n",
    "    y=\"properties.found_ht\"\n",
    ")"
   ]
  },
  {
   "cell_type": "markdown",
   "id": "85d645a7",
   "metadata": {},
   "source": [
    "# Examine Foundation Height of 8ft."
   ]
  },
  {
   "cell_type": "code",
   "execution_count": 33,
   "id": "1b2137a5",
   "metadata": {},
   "outputs": [
    {
     "name": "stdout",
     "output_type": "stream",
     "text": [
      "(10174, 35)\n"
     ]
    },
    {
     "data": {
      "text/html": [
       "<div>\n",
       "<style scoped>\n",
       "    .dataframe tbody tr th:only-of-type {\n",
       "        vertical-align: middle;\n",
       "    }\n",
       "\n",
       "    .dataframe tbody tr th {\n",
       "        vertical-align: top;\n",
       "    }\n",
       "\n",
       "    .dataframe thead th {\n",
       "        text-align: right;\n",
       "    }\n",
       "</style>\n",
       "<table border=\"1\" class=\"dataframe\">\n",
       "  <thead>\n",
       "    <tr style=\"text-align: right;\">\n",
       "      <th></th>\n",
       "      <th>type</th>\n",
       "      <th>geometry.type</th>\n",
       "      <th>geometry.coordinates</th>\n",
       "      <th>properties.fd_id</th>\n",
       "      <th>properties.bid</th>\n",
       "      <th>properties.occtype</th>\n",
       "      <th>properties.st_damcat</th>\n",
       "      <th>properties.bldgtype</th>\n",
       "      <th>properties.found_type</th>\n",
       "      <th>properties.cbfips</th>\n",
       "      <th>...</th>\n",
       "      <th>properties.firmzone</th>\n",
       "      <th>properties.o65disable</th>\n",
       "      <th>properties.u65disable</th>\n",
       "      <th>properties.x</th>\n",
       "      <th>properties.y</th>\n",
       "      <th>properties.ground_elv</th>\n",
       "      <th>properties.ground_elv_m</th>\n",
       "      <th>properties.bldgtype_names</th>\n",
       "      <th>properties.found_type_names</th>\n",
       "      <th>geometry</th>\n",
       "    </tr>\n",
       "  </thead>\n",
       "  <tbody>\n",
       "    <tr>\n",
       "      <th>0</th>\n",
       "      <td>Feature</td>\n",
       "      <td>Point</td>\n",
       "      <td>[-74.004758, 40.740126]</td>\n",
       "      <td>554780497</td>\n",
       "      <td>87G7PXRW+335-0-0-0-0</td>\n",
       "      <td>RES1-3SNB</td>\n",
       "      <td>RES</td>\n",
       "      <td>S</td>\n",
       "      <td>P</td>\n",
       "      <td>360610077003000</td>\n",
       "      <td>...</td>\n",
       "      <td>None</td>\n",
       "      <td>0.25</td>\n",
       "      <td>0.03</td>\n",
       "      <td>-74.004758</td>\n",
       "      <td>40.740126</td>\n",
       "      <td>9.039376</td>\n",
       "      <td>2.755202</td>\n",
       "      <td>Steel</td>\n",
       "      <td>Pier</td>\n",
       "      <td>POINT (-74.00476 40.74013)</td>\n",
       "    </tr>\n",
       "    <tr>\n",
       "      <th>1</th>\n",
       "      <td>Feature</td>\n",
       "      <td>Point</td>\n",
       "      <td>[-73.97857, 40.784723]</td>\n",
       "      <td>555440628</td>\n",
       "      <td>87G8Q2MC+VHM-0-0-0-0</td>\n",
       "      <td>RES1-1SNB</td>\n",
       "      <td>RES</td>\n",
       "      <td>W</td>\n",
       "      <td>I</td>\n",
       "      <td>360610167004001</td>\n",
       "      <td>...</td>\n",
       "      <td>None</td>\n",
       "      <td>0.25</td>\n",
       "      <td>0.03</td>\n",
       "      <td>-73.978570</td>\n",
       "      <td>40.784723</td>\n",
       "      <td>68.460883</td>\n",
       "      <td>20.866877</td>\n",
       "      <td>Wood</td>\n",
       "      <td>Pile</td>\n",
       "      <td>POINT (-73.97857 40.78472)</td>\n",
       "    </tr>\n",
       "    <tr>\n",
       "      <th>2</th>\n",
       "      <td>Feature</td>\n",
       "      <td>Point</td>\n",
       "      <td>[-74.016054, 40.714126]</td>\n",
       "      <td>554077619</td>\n",
       "      <td>87G7PX7M+MH4-14-21-15-16</td>\n",
       "      <td>RES3A</td>\n",
       "      <td>RES</td>\n",
       "      <td>M</td>\n",
       "      <td>P</td>\n",
       "      <td>360610317031001</td>\n",
       "      <td>...</td>\n",
       "      <td>None</td>\n",
       "      <td>0.25</td>\n",
       "      <td>0.03</td>\n",
       "      <td>-74.016054</td>\n",
       "      <td>40.714126</td>\n",
       "      <td>12.385327</td>\n",
       "      <td>3.775048</td>\n",
       "      <td>Masonry</td>\n",
       "      <td>Pier</td>\n",
       "      <td>POINT (-74.01605 40.71413)</td>\n",
       "    </tr>\n",
       "    <tr>\n",
       "      <th>3</th>\n",
       "      <td>Feature</td>\n",
       "      <td>Point</td>\n",
       "      <td>[-74.015918, 40.713746]</td>\n",
       "      <td>554077612</td>\n",
       "      <td>87G7PX7M+FJW-2-3-2-1</td>\n",
       "      <td>RES3A</td>\n",
       "      <td>RES</td>\n",
       "      <td>W</td>\n",
       "      <td>I</td>\n",
       "      <td>360610317031001</td>\n",
       "      <td>...</td>\n",
       "      <td>None</td>\n",
       "      <td>0.25</td>\n",
       "      <td>0.03</td>\n",
       "      <td>-74.015918</td>\n",
       "      <td>40.713746</td>\n",
       "      <td>13.660159</td>\n",
       "      <td>4.163616</td>\n",
       "      <td>Wood</td>\n",
       "      <td>Pile</td>\n",
       "      <td>POINT (-74.01592 40.71375)</td>\n",
       "    </tr>\n",
       "    <tr>\n",
       "      <th>4</th>\n",
       "      <td>Feature</td>\n",
       "      <td>Point</td>\n",
       "      <td>[-74.016171, 40.713845]</td>\n",
       "      <td>554077614</td>\n",
       "      <td>87G7PX7M+GGP-5-7-4-7</td>\n",
       "      <td>RES3A</td>\n",
       "      <td>RES</td>\n",
       "      <td>W</td>\n",
       "      <td>I</td>\n",
       "      <td>360610317031001</td>\n",
       "      <td>...</td>\n",
       "      <td>None</td>\n",
       "      <td>0.25</td>\n",
       "      <td>0.03</td>\n",
       "      <td>-74.016171</td>\n",
       "      <td>40.713845</td>\n",
       "      <td>13.840390</td>\n",
       "      <td>4.218551</td>\n",
       "      <td>Wood</td>\n",
       "      <td>Pile</td>\n",
       "      <td>POINT (-74.01617 40.71384)</td>\n",
       "    </tr>\n",
       "  </tbody>\n",
       "</table>\n",
       "<p>5 rows × 35 columns</p>\n",
       "</div>"
      ],
      "text/plain": [
       "      type geometry.type     geometry.coordinates  properties.fd_id  \\\n",
       "0  Feature         Point  [-74.004758, 40.740126]         554780497   \n",
       "1  Feature         Point   [-73.97857, 40.784723]         555440628   \n",
       "2  Feature         Point  [-74.016054, 40.714126]         554077619   \n",
       "3  Feature         Point  [-74.015918, 40.713746]         554077612   \n",
       "4  Feature         Point  [-74.016171, 40.713845]         554077614   \n",
       "\n",
       "             properties.bid properties.occtype properties.st_damcat  \\\n",
       "0      87G7PXRW+335-0-0-0-0          RES1-3SNB                  RES   \n",
       "1      87G8Q2MC+VHM-0-0-0-0          RES1-1SNB                  RES   \n",
       "2  87G7PX7M+MH4-14-21-15-16              RES3A                  RES   \n",
       "3      87G7PX7M+FJW-2-3-2-1              RES3A                  RES   \n",
       "4      87G7PX7M+GGP-5-7-4-7              RES3A                  RES   \n",
       "\n",
       "  properties.bldgtype properties.found_type properties.cbfips  ...  \\\n",
       "0                   S                     P   360610077003000  ...   \n",
       "1                   W                     I   360610167004001  ...   \n",
       "2                   M                     P   360610317031001  ...   \n",
       "3                   W                     I   360610317031001  ...   \n",
       "4                   W                     I   360610317031001  ...   \n",
       "\n",
       "   properties.firmzone  properties.o65disable  properties.u65disable  \\\n",
       "0                 None                   0.25                   0.03   \n",
       "1                 None                   0.25                   0.03   \n",
       "2                 None                   0.25                   0.03   \n",
       "3                 None                   0.25                   0.03   \n",
       "4                 None                   0.25                   0.03   \n",
       "\n",
       "   properties.x  properties.y  properties.ground_elv properties.ground_elv_m  \\\n",
       "0    -74.004758     40.740126               9.039376                2.755202   \n",
       "1    -73.978570     40.784723              68.460883               20.866877   \n",
       "2    -74.016054     40.714126              12.385327                3.775048   \n",
       "3    -74.015918     40.713746              13.660159                4.163616   \n",
       "4    -74.016171     40.713845              13.840390                4.218551   \n",
       "\n",
       "  properties.bldgtype_names  properties.found_type_names  \\\n",
       "0                     Steel                         Pier   \n",
       "1                      Wood                         Pile   \n",
       "2                   Masonry                         Pier   \n",
       "3                      Wood                         Pile   \n",
       "4                      Wood                         Pile   \n",
       "\n",
       "                     geometry  \n",
       "0  POINT (-74.00476 40.74013)  \n",
       "1  POINT (-73.97857 40.78472)  \n",
       "2  POINT (-74.01605 40.71413)  \n",
       "3  POINT (-74.01592 40.71375)  \n",
       "4  POINT (-74.01617 40.71384)  \n",
       "\n",
       "[5 rows x 35 columns]"
      ]
     },
     "execution_count": 33,
     "metadata": {},
     "output_type": "execute_result"
    }
   ],
   "source": [
    "foundation_height_eight = (\n",
    "    df\n",
    "    .loc[df['properties.found_ht'] == 8]\n",
    "    .reset_index(drop=True)\n",
    ")\n",
    "\n",
    "print(foundation_height_eight.shape)\n",
    "foundation_height_eight.head()"
   ]
  },
  {
   "cell_type": "code",
   "execution_count": 34,
   "id": "6f46cf6c",
   "metadata": {},
   "outputs": [
    {
     "data": {
      "text/plain": [
       "<AxesSubplot: xlabel='properties.found_type_names', ylabel='count'>"
      ]
     },
     "execution_count": 34,
     "metadata": {},
     "output_type": "execute_result"
    },
    {
     "data": {
      "image/png": "[encoded data removed]",
      "text/plain": [
       "<Figure size 640x480 with 1 Axes>"
      ]
     },
     "metadata": {},
     "output_type": "display_data"
    }
   ],
   "source": [
    "sns.countplot(\n",
    "    data=foundation_height_eight,\n",
    "    x=\"properties.found_type_names\",\n",
    "    color=\"C0\"\n",
    ")"
   ]
  },
  {
   "cell_type": "code",
   "execution_count": 35,
   "id": "a6bf02bf",
   "metadata": {},
   "outputs": [
    {
     "data": {
      "text/plain": [
       "<AxesSubplot: xlabel='properties.bldgtype_names', ylabel='count'>"
      ]
     },
     "execution_count": 35,
     "metadata": {},
     "output_type": "execute_result"
    },
    {
     "data": {
      "image/png": "[encoded data removed]",
      "text/plain": [
       "<Figure size 640x480 with 1 Axes>"
      ]
     },
     "metadata": {},
     "output_type": "display_data"
    }
   ],
   "source": [
    "sns.countplot(\n",
    "    data=foundation_height_eight,\n",
    "    x=\"properties.bldgtype_names\",\n",
    "    color=\"C0\"\n",
    ")"
   ]
  },
  {
   "cell_type": "code",
   "execution_count": null,
   "id": "e554d774",
   "metadata": {},
   "outputs": [],
   "source": []
  }
 ],
 "metadata": {
  "kernelspec": {
   "display_name": "Python 3 (ipykernel)",
   "language": "python",
   "name": "python3"
  },
  "language_info": {
   "codemirror_mode": {
    "name": "ipython",
    "version": 3
   },
   "file_extension": ".py",
   "mimetype": "text/x-python",
   "name": "python",
   "nbconvert_exporter": "python",
   "pygments_lexer": "ipython3",
   "version": "3.11.0"
  }
 },
 "nbformat": 4,
 "nbformat_minor": 5
}
